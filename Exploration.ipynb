{
 "cells": [
  {
   "cell_type": "code",
   "execution_count": 2,
   "metadata": {
    "collapsed": true
   },
   "outputs": [],
   "source": [
    "import numpy as np\n",
    "import pandas as pd\n",
    "%load_ext autoreload\n",
    "%autoreload 2"
   ]
  },
  {
   "cell_type": "markdown",
   "metadata": {},
   "source": [
    "# Overview\n",
    "\n",
    "What does this thing look like?\n",
    "- Object that you can import\n",
    "- Can call train, load, featurize, import\n",
    "- Inherits from sklearn.transform? Multiple inheritance is hard..."
   ]
  },
  {
   "cell_type": "markdown",
   "metadata": {},
   "source": [
    "# I. Load Data\n",
    "\n",
    "- words: np.ndarray of all characters\n",
    "- dataset: np.ndarray of character indices"
   ]
  },
  {
   "cell_type": "code",
   "execution_count": 137,
   "metadata": {
    "collapsed": false
   },
   "outputs": [
    {
     "name": "stdout",
     "output_type": "stream",
     "text": [
      "vocab size: 125\n"
     ]
    }
   ],
   "source": [
    "import codecs \n",
    "\n",
    "#=====[ Load a whole corpus ]=====\n",
    "def load_data(data_dir='./data/tinyshakespeare/'):\n",
    "    vocab = {}\n",
    "    print ('%s/input.txt'% data_dir)\n",
    "    words = codecs.open('%s/input.txt' % data_dir, 'rb', 'utf-8').read()\n",
    "    words = list(words)\n",
    "    dataset = np.ndarray((len(words),), dtype=np.int32)\n",
    "    for i, word in enumerate(words):\n",
    "        if word not in vocab:\n",
    "            vocab[word] = len(vocab)\n",
    "        dataset[i] = vocab[word]\n",
    "    print 'corpus length (in characters):', len(words)\n",
    "    print 'vocab size:', len(vocab)\n",
    "    return dataset, words, vocab\n",
    "#print 'corpus length (in characters):', len(words)\n",
    "#dataset, words, vocab = load_data()\n",
    "\n",
    "#=====[ Load only the vocabulary ]=====\n",
    "vocab = pickle.load(open('./data/audit_data/vocab.bin', 'rb'))\n",
    "ivocab = {i:c for c, i in vocab.items()}\n",
    "print 'vocab size:', len(vocab)"
   ]
  },
  {
   "cell_type": "markdown",
   "metadata": {},
   "source": [
    "# II. Load Model"
   ]
  },
  {
   "cell_type": "code",
   "execution_count": 139,
   "metadata": {
    "collapsed": false
   },
   "outputs": [
    {
     "name": "stdout",
     "output_type": "stream",
     "text": [
      "# of units:  128\n"
     ]
    }
   ],
   "source": [
    "import pickle\n",
    "from CharRNN import CharRNN, make_initial_state\n",
    "from chainer import cuda\n",
    "\n",
    "#####[ PARAMS ]#####\n",
    "n_units = 128\n",
    "seq_length = 50\n",
    "batchsize = 50\n",
    "seed = 123\n",
    "length = 50\n",
    "####################\n",
    "\n",
    "np.random.seed(seed)\n",
    "model = pickle.load(open('./data/audit_data/audit_model.chainermodel', 'rb'))\n",
    "n_units = model.embed.W.data.shape[1]\n",
    "initial_state = make_initial_state(n_units, batchsize=1, train=False)\n",
    "print '# of units: ', n_units"
   ]
  },
  {
   "cell_type": "markdown",
   "metadata": {},
   "source": [
    "# III. Create TextFeaturizer"
   ]
  },
  {
   "cell_type": "code",
   "execution_count": 202,
   "metadata": {
    "collapsed": true
   },
   "outputs": [],
   "source": [
    "class TextFeaturizer(object):\n",
    "    \"\"\"Featurizes Text using a CharRNN\"\"\"\n",
    "    def __init__(self, model, vocab):\n",
    "        self.__dict__.update(locals())\n",
    "        self.n_units = model.embed.W.data.shape[1]\n",
    "        \n",
    "    def preprocess(self, text):\n",
    "        \"\"\"returns preprocessed version of text\"\"\"\n",
    "        if not isinstance(text, str):\n",
    "            raise NotImplementedError(\"Must pass in a string\")\n",
    "        return np.array([vocab[c] for c in text]).astype(np.int32)\n",
    "    \n",
    "    def featurize(self, text):\n",
    "        \"\"\"returns a list of feature vectors for the text\"\"\"\n",
    "        #=====[ Step 1: Convert to an array ]=====\n",
    "        dataset = self.preprocess(text)\n",
    "        \n",
    "        #=====[ Step 2: Create initial state ]=====\n",
    "        initial_state = make_initial_state(n_units, batchsize=1, train=False)\n",
    "        init_char = np.array([0]).astype(np.int32)\n",
    "        state, prob = rnn.forward_one_step(init_char, init_char, initial_state, train=False)\n",
    "        \n",
    "        #=====[ Step 3: Find feature vectors ]=====\n",
    "        states = []\n",
    "        for i in range(len(dataset)):\n",
    "            cur_char = np.array([dataset[i]]).astype(np.int32)\n",
    "            state, prob = model.forward_one_step(cur_char, cur_char, state, train=False)\n",
    "            states.append(state['h2'].data.copy())\n",
    "\n",
    "        #=====[ Step 4: Sanity check ]=====\n",
    "        if not all([s.shape == (1, self.n_units) for s in states]):\n",
    "            raise Exception(\"For some reason, generated the wrong shape! {}\".format(np.array(states).shape))\n",
    "        return states"
   ]
  },
  {
   "cell_type": "code",
   "execution_count": 203,
   "metadata": {
    "collapsed": false
   },
   "outputs": [],
   "source": [
    "featurizer = TextFeaturizer(model, vocab)\n",
    "\n",
    "#=====[ TEST ]=====\n",
    "text = 'Conducted an investigation of WalMart and concluded air and fire safety were correct'\n",
    "states = featurizer.featurize(text)"
   ]
  }
 ],
 "metadata": {
  "kernelspec": {
   "display_name": "Python 2",
   "language": "python",
   "name": "python2"
  },
  "language_info": {
   "codemirror_mode": {
    "name": "ipython",
    "version": 2
   },
   "file_extension": ".py",
   "mimetype": "text/x-python",
   "name": "python",
   "nbconvert_exporter": "python",
   "pygments_lexer": "ipython2",
   "version": "2.7.11"
  }
 },
 "nbformat": 4,
 "nbformat_minor": 0
}
